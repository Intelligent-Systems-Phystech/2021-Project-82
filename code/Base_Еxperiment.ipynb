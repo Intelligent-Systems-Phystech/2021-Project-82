{
  "nbformat": 4,
  "nbformat_minor": 0,
  "metadata": {
    "colab": {
      "name": "example.ipynb",
      "provenance": [],
      "collapsed_sections": []
    },
    "kernelspec": {
      "name": "python3",
      "display_name": "Python 3"
    },
    "accelerator": "GPU"
  },
  "cells": [
    {
      "cell_type": "code",
      "metadata": {
        "colab": {
          "base_uri": "https://localhost:8080/"
        },
        "id": "9qlH-w3pq6Fu",
        "outputId": "f5108bc0-4d3d-4a59-fc0a-d659d794879d"
      },
      "source": [
        "!pip install torch==0.4.1.post2"
      ],
      "execution_count": 2,
      "outputs": [
        {
          "output_type": "stream",
          "text": [
            "Collecting torch==0.4.1.post2\n",
            "\u001b[?25l  Downloading https://files.pythonhosted.org/packages/d3/91/1b2871d6c8ca079254deae5872af32e02e9a85f07dd0834e8b3489ce138f/torch-0.4.1.post2-cp37-cp37m-manylinux1_x86_64.whl (519.5MB)\n",
            "\u001b[K     |████████████████████████████████| 519.5MB 33kB/s \n",
            "\u001b[31mERROR: torchvision 0.9.0+cu101 has requirement torch==1.8.0, but you'll have torch 0.4.1.post2 which is incompatible.\u001b[0m\n",
            "\u001b[31mERROR: torchtext 0.9.0 has requirement torch==1.8.0, but you'll have torch 0.4.1.post2 which is incompatible.\u001b[0m\n",
            "\u001b[31mERROR: fastai 1.0.61 has requirement torch>=1.0.0, but you'll have torch 0.4.1.post2 which is incompatible.\u001b[0m\n",
            "\u001b[?25hInstalling collected packages: torch\n",
            "  Found existing installation: torch 1.8.0+cu101\n",
            "    Uninstalling torch-1.8.0+cu101:\n",
            "      Successfully uninstalled torch-1.8.0+cu101\n",
            "Successfully installed torch-0.4.1.post2\n"
          ],
          "name": "stdout"
        }
      ]
    },
    {
      "cell_type": "code",
      "metadata": {
        "colab": {
          "base_uri": "https://localhost:8080/"
        },
        "id": "sIfVbBFMm6wP",
        "outputId": "84a2f4be-c652-4740-e114-4e68c7768e77"
      },
      "source": [
        "!git clone https://github.com/jiangfeng1124/transfer.git"
      ],
      "execution_count": 6,
      "outputs": [
        {
          "output_type": "stream",
          "text": [
            "Cloning into 'transfer'...\n",
            "remote: Enumerating objects: 37, done.\u001b[K\n",
            "remote: Counting objects: 100% (37/37), done.\u001b[K\n",
            "remote: Compressing objects: 100% (25/25), done.\u001b[K\n",
            "remote: Total 208 (delta 19), reused 27 (delta 12), pack-reused 171\u001b[K\n",
            "Receiving objects: 100% (208/208), 26.67 MiB | 24.45 MiB/s, done.\n",
            "Resolving deltas: 100% (84/84), done.\n"
          ],
          "name": "stdout"
        }
      ]
    },
    {
      "cell_type": "code",
      "metadata": {
        "colab": {
          "base_uri": "https://localhost:8080/"
        },
        "id": "O2bw4oRUnJ0i",
        "outputId": "e4153123-304e-4472-bca4-1f0db043435a"
      },
      "source": [
        "!cd transfer/msda-src/ && PYTHONPATH=. python amazon-chen/senti_unified.py \\\n",
        "  --cuda \\\n",
        "  --dropout 0.1 \\\n",
        "  --encoder mlp \\\n",
        "  --train dvd,electronics,kitchen \\\n",
        "  --test books \\\n",
        "  --max_epoch 15 \\\n",
        "  --save_model dek-b.unified.ckpt \\\n",
        "  --n_d 500 \\\n",
        "  --lambda_critic 0 \\\n",
        "  --batch_size 64 \\\n",
        "  --batch_size_d 64 \\\n",
        "  --activation relu"
      ],
      "execution_count": 7,
      "outputs": [
        {
          "output_type": "stream",
          "text": [
            "Namespace(activation='relu', advreg=False, batch_size=64, batch_size_d=64, cond=None, criterion='classification', critic='dann', cuda=True, dropout=0.1, encoder='mlp', eval_only=False, lambda_critic=0.0, load_model=None, lr=0.0001, lr_d=0.0001, max_epoch=15, n_d=500, n_in=5000, noise_radius=0.2, optim='adam', save_image='./tmp.pdf', save_model='dek-b.unified.ckpt', test='books', train='dvd,electronics,kitchen', visualize=False)Transferring from dvd,electronics,kitchen to books\n",
            "Corpus loaded.\n",
            "\n",
            "MLP(\n",
            "  (dropout_op): Dropout(p=0.1)\n",
            "  (seq): Sequential(\n",
            "    (linear): Linear(in_features=5000, out_features=500, bias=True)\n",
            "    (activation): ReLU()\n",
            "    (dropout): Dropout(p=0.1)\n",
            "  )\n",
            "  (output_op): Linear(in_features=500, out_features=1, bias=True)\n",
            ")\n",
            "\n",
            "\n",
            "ClassificationD(\n",
            "  (seq): Sequential(\n",
            "    (0): Linear(in_features=500, out_features=100, bias=True)\n",
            "    (1): ReLU()\n",
            "    (2): Linear(in_features=100, out_features=2, bias=True)\n",
            "  )\n",
            ")\n",
            "\n",
            "\n",
            "Linear(in_features=500, out_features=2, bias=True)\n",
            "\n",
            "\n",
            "MLP(\n",
            "  (dropout_op): Dropout(p=0.1)\n",
            "  (seq): Sequential(\n",
            "    (linear): Linear(in_features=5000, out_features=500, bias=True)\n",
            "    (activation): ReLU()\n",
            "    (dropout): Dropout(p=0.1)\n",
            "  )\n",
            "  (output_op): Linear(in_features=500, out_features=1, bias=True)\n",
            ")\n",
            "\n",
            "\n",
            "MMD()\n",
            "\n",
            "odict_keys(['seq.linear.weight', 'seq.linear.bias', 'output_op.weight', 'output_op.bias'])\n",
            "odict_keys(['seq.0.weight', 'seq.0.bias', 'seq.2.weight', 'seq.2.bias'])\n",
            "odict_keys(['weight', 'bias'])\n",
            "odict_keys(['seq.linear.weight', 'seq.linear.bias', 'output_op.weight', 'output_op.bias'])\n",
            "odict_keys([])\n",
            "Training will begin from scratch\n",
            "\n",
            "Test accuracy: 0.7093\n",
            "\n",
            "Test accuracy: 0.7483\n",
            "\n",
            "Test accuracy: 0.7633\n",
            "\n",
            "Test accuracy: 0.7617\n",
            "\n",
            "Test accuracy: 0.7745\n",
            "\n",
            "Test accuracy: 0.7767\n",
            "\n",
            "Test accuracy: 0.7769\n",
            "\n",
            "Test accuracy: 0.7763\n",
            "\n",
            "Test accuracy: 0.7763\n",
            "\n",
            "Test accuracy: 0.7754\n",
            "\n",
            "Test accuracy: 0.7763\n",
            "\n",
            "Test accuracy: 0.7736\n",
            "\n",
            "Test accuracy: 0.7733\n",
            "\n",
            "Test accuracy: 0.7767\n",
            "\n",
            "Test accuracy: 0.7767\n",
            "\u001b[31mTest accuracy after training 0.7767\n",
            "\u001b[0m"
          ],
          "name": "stdout"
        }
      ]
    },
    {
      "cell_type": "code",
      "metadata": {
        "id": "jh7uqPTRnUp3",
        "colab": {
          "base_uri": "https://localhost:8080/"
        },
        "outputId": "80a1362f-ade5-43ed-e040-fa639df00cd8"
      },
      "source": [
        "!ls"
      ],
      "execution_count": 8,
      "outputs": [
        {
          "output_type": "stream",
          "text": [
            "sample_data  transfer\n"
          ],
          "name": "stdout"
        }
      ]
    },
    {
      "cell_type": "code",
      "metadata": {
        "id": "f2IbRfoxsuNq"
      },
      "source": [
        ""
      ],
      "execution_count": null,
      "outputs": []
    }
  ]
}